{
 "cells": [
  {
   "cell_type": "code",
   "execution_count": 2,
   "metadata": {},
   "outputs": [
    {
     "name": "stdout",
     "output_type": "stream",
     "text": [
      "x + y: 나는 오늘 파이썬을 배웠다.\n",
      "x * 3: 나는 오늘 나는 오늘 나는 오늘 \n"
     ]
    }
   ],
   "source": [
    "# ex_str_ops.py\n",
    "\n",
    "x = \"나는 오늘 \"\n",
    "y = \"파이썬을 배웠다.\"\n",
    "z = x + y\n",
    "print(\"x + y:\", z)\n",
    "z = x * 3\n",
    "print(\"x * 3:\", z)\n"
   ]
  },
  {
   "cell_type": "code",
   "execution_count": 3,
   "metadata": {},
   "outputs": [
    {
     "name": "stdout",
     "output_type": "stream",
     "text": [
      "s1 => 페르소나는 26세 김민지라는 여성입니다.\n",
      "s2 => 페르소나는 26세 김민지라는 여성입니다.\n"
     ]
    }
   ],
   "source": [
    "# ex_str_fmt.py\n",
    "\n",
    "name = \"김민지\"\n",
    "age = 26\n",
    "gender = \"여성\"\n",
    "\n",
    "s1 = \"페르소나는 {age}세 {name}라는 {gender}입니다.\".format(name=name, age=age, gender=gender)\n",
    "print(f\"s1 => {s1}\")\n",
    "s2 = f\"페르소나는 {age}세 {name}라는 {gender}입니다.\"\n",
    "print(f\"s2 => {s2}\") \n"
   ]
  },
  {
   "cell_type": "code",
   "execution_count": 4,
   "metadata": {},
   "outputs": [
    {
     "name": "stdout",
     "output_type": "stream",
     "text": [
      "split: ['김민지', '고비']\n",
      "replace: 김민지 그리고 고비\n"
     ]
    }
   ],
   "source": [
    "# ex_str_funcs.py\n",
    "\n",
    "# split는 문자열을 지정된 구분자에 따라 분리하는 함수다.\n",
    "text = \"김민지 and 고비\"\n",
    "result = text.split(\" and \")\n",
    "print(f\"split: {result}\")\n",
    "\n",
    "# replace는 문자열의 일부(또는 전부)를 다른 문자열로 교체하는 함수다.\n",
    "result = text.replace(\"and\", \"그리고\")\n",
    "print(f\"replace: {result}\")"
   ]
  },
  {
   "cell_type": "code",
   "execution_count": 5,
   "metadata": {},
   "outputs": [
    {
     "name": "stdout",
     "output_type": "stream",
     "text": [
      "모든 감정: 사랑 증오 기쁨\n"
     ]
    }
   ],
   "source": [
    "# ex_list1.py\n",
    "\n",
    "emotions = ['사랑', '증오', '기쁨']\n",
    "print(\"모든 감정:\", emotions[0], emotions[1], emotions[2])"
   ]
  },
  {
   "cell_type": "code",
   "execution_count": 6,
   "metadata": {},
   "outputs": [
    {
     "name": "stdout",
     "output_type": "stream",
     "text": [
      "모든 감정: 사랑 증오 기쁨 슬픔\n"
     ]
    }
   ],
   "source": [
    "# ex_list2.py\n",
    "\n",
    "emotions = ['사랑', '증오', '기쁨']\n",
    "emotions.append(\"슬픔\")\n",
    "print(\"모든 감정:\", emotions[0], emotions[1], emotions[2], emotions[3])"
   ]
  },
  {
   "cell_type": "code",
   "execution_count": 7,
   "metadata": {},
   "outputs": [
    {
     "name": "stdout",
     "output_type": "stream",
     "text": [
      "모든 감정: 증오 기쁨 슬픔\n"
     ]
    }
   ],
   "source": [
    "# ex_list3.py\n",
    "\n",
    "emotions = ['사랑', '증오', '기쁨']\n",
    "emotions.append(\"슬픔\")\n",
    "emotions.remove(\"사랑\")\n",
    "print(\"모든 감정:\", emotions[0], emotions[1], emotions[2])"
   ]
  },
  {
   "cell_type": "code",
   "execution_count": 8,
   "metadata": {},
   "outputs": [
    {
     "name": "stdout",
     "output_type": "stream",
     "text": [
      "모든 과일: 박과의 여름과일 사과나무의 열매 나무딸기속 식물\n"
     ]
    }
   ],
   "source": [
    "# ex_dict1.py\n",
    "\n",
    "fruits = {'수박': '박과의 여름과일', '사과': '사과나무의 열매', '딸기': '나무딸기속 식물'}\n",
    "print('모든 과일:', fruits['수박'], fruits['사과'], fruits['딸기'])"
   ]
  },
  {
   "cell_type": "code",
   "execution_count": 9,
   "metadata": {},
   "outputs": [],
   "source": [
    "# ex_dict2.py\n",
    "\n",
    "fruits['포도'] = '덩굴성 자줏빛 과일'\n",
    "del fruits['수박']"
   ]
  },
  {
   "cell_type": "code",
   "execution_count": 10,
   "metadata": {},
   "outputs": [
    {
     "name": "stdout",
     "output_type": "stream",
     "text": [
      "fruits_keys_list:  ['사과', '딸기', '포도']\n",
      "fruits_values_list:  ['사과나무의 열매', '나무딸기속 식물', '덩굴성 자줏빛 과일']\n"
     ]
    }
   ],
   "source": [
    "# ex_dict2.py\n",
    "\n",
    "# fruits에 담긴 키들을 가져와 fruits_keys에 담는다.\n",
    "fruits_keys = fruits.keys()\n",
    "\n",
    "# list(...) 함수를 통해 fruits_keys의 데이터를 리스트 데이터 형식으로 변경한다.\n",
    "fruits_keys_list = list(fruits_keys) \n",
    "\n",
    "# fruits에 담긴 값들을 가져와 fruits_values에 담는다.\n",
    "fruits_values = fruits.values()\n",
    "\n",
    "# list(...;) 함수를 통해 fruits_values의 데이터를 리스트 데이터 형식으로 변경한다.\n",
    "fruits_values_list = list(fruits_values) \n",
    "\n",
    "print(\"fruits_keys_list: \", fruits_keys_list)\n",
    "print(\"fruits_values_list: \", fruits_values_list)\n"
   ]
  },
  {
   "cell_type": "code",
   "execution_count": 11,
   "metadata": {},
   "outputs": [
    {
     "name": "stdout",
     "output_type": "stream",
     "text": [
      "a == b: True\n",
      "c: {1, 2, 3}\n"
     ]
    }
   ],
   "source": [
    "# ex_set1.py\n",
    "\n",
    "a = set([1,2,3])\n",
    "b = set([3,2,1])\n",
    "\n",
    "# 순서가 다르더라도 같은 데이터로 판단한다.\n",
    "print(\"a == b:\", a == b) \n",
    "\n",
    "# 중복된 요소는 제거한다.\n",
    "c = set([3,2,1,1])\n",
    "print(\"c:\", c)"
   ]
  },
  {
   "cell_type": "code",
   "execution_count": 12,
   "metadata": {},
   "outputs": [
    {
     "name": "stdout",
     "output_type": "stream",
     "text": [
      "합집합: {1, 2, 3, 4}\n",
      "교집합: {2, 3}\n",
      "차집합: {1}\n"
     ]
    }
   ],
   "source": [
    "# ex_set2.py\n",
    "\n",
    "a = set([1,2,3])\n",
    "b = set([2,3,4])\n",
    "a = set([1,2,3])\n",
    "b = set([2,3,4])\n",
    "\n",
    "print(\"합집합:\", a | b) \n",
    "print(\"교집합:\", a & b) \n",
    "print(\"차집합:\", a - b)"
   ]
  },
  {
   "cell_type": "code",
   "execution_count": 13,
   "metadata": {},
   "outputs": [
    {
     "name": "stdout",
     "output_type": "stream",
     "text": [
      "a: (1, 2, 3, 3)\n",
      "a[0]: 1\n"
     ]
    },
    {
     "ename": "TypeError",
     "evalue": "'tuple' object does not support item assignment",
     "output_type": "error",
     "traceback": [
      "\u001b[1;31m---------------------------------------------------------------------------\u001b[0m",
      "\u001b[1;31mTypeError\u001b[0m                                 Traceback (most recent call last)",
      "Cell \u001b[1;32mIn[13], line 6\u001b[0m\n\u001b[0;32m      4\u001b[0m \u001b[38;5;28mprint\u001b[39m(\u001b[38;5;124m\"\u001b[39m\u001b[38;5;124ma:\u001b[39m\u001b[38;5;124m\"\u001b[39m, a) \u001b[38;5;66;03m#중복을 허용한다.\u001b[39;00m\n\u001b[0;32m      5\u001b[0m \u001b[38;5;28mprint\u001b[39m(\u001b[38;5;124m\"\u001b[39m\u001b[38;5;124ma[0]:\u001b[39m\u001b[38;5;124m\"\u001b[39m, a[\u001b[38;5;241m0\u001b[39m]) \u001b[38;5;66;03m#인덱스로 접근한다.\u001b[39;00m\n\u001b[1;32m----> 6\u001b[0m \u001b[43ma\u001b[49m\u001b[43m[\u001b[49m\u001b[38;5;241;43m0\u001b[39;49m\u001b[43m]\u001b[49m\u001b[38;5;241m=\u001b[39m\u001b[38;5;241m10\u001b[39m \u001b[38;5;66;03m#변경을 시도하면 오류가 발생한다.\u001b[39;00m\n",
      "\u001b[1;31mTypeError\u001b[0m: 'tuple' object does not support item assignment"
     ]
    }
   ],
   "source": [
    "# ex_tuple1.py\n",
    "\n",
    "a = (1,2,3,3)\n",
    "print(\"a:\", a) #중복을 허용한다.\n",
    "print(\"a[0]:\", a[0]) #인덱스로 접근한다.\n",
    "a[0]=10 #변경을 시도하면 오류가 발생한다."
   ]
  },
  {
   "cell_type": "code",
   "execution_count": 14,
   "metadata": {},
   "outputs": [
    {
     "name": "stdout",
     "output_type": "stream",
     "text": [
      "a: 1\n",
      "b: 2\n",
      "c: 3\n"
     ]
    }
   ],
   "source": [
    "# ex_tuple2.py\n",
    "\n",
    "numbers = 1,2,3 #패킹\n",
    "a,b,c = numbers #언패킹\n",
    "print(\"a:\", a)\n",
    "print(\"b:\", b)\n",
    "print(\"c:\", c)"
   ]
  },
  {
   "cell_type": "code",
   "execution_count": 15,
   "metadata": {},
   "outputs": [
    {
     "name": "stdout",
     "output_type": "stream",
     "text": [
      "sum_value: 7\n",
      "product_value: 12\n"
     ]
    }
   ],
   "source": [
    "# ex_tuple3.py\n",
    "\n",
    "def calculate(a, b):\n",
    "    sum_result = a + b\n",
    "    product_result = a * b\n",
    "    return sum_result, product_result  # 튜플을 패킹한다.\n",
    "\n",
    "# 언패킹하여 각 결과에 할당한다.\n",
    "sum_value, product_value = calculate(3, 4)\n",
    "print(\"sum_value:\", sum_value)\n",
    "print(\"product_value:\", product_value)"
   ]
  },
  {
   "cell_type": "code",
   "execution_count": 16,
   "metadata": {},
   "outputs": [
    {
     "name": "stdout",
     "output_type": "stream",
     "text": [
      "0번째, element: 1\n",
      "1번째, element: 2\n",
      "2번째, element: 3\n",
      "====================\n",
      "1번째, element: 1\n",
      "2번째, element: 2\n",
      "3번째, element: 3\n"
     ]
    }
   ],
   "source": [
    "# ex_enum.py\n",
    "\n",
    "list_var = [1,2,3]\n",
    "for idx, element in enumerate(list_var): \n",
    "    print(f\"{idx}번째, element: {element}\")\n",
    "print(\"=\" * 20)    \n",
    "for idx, element in enumerate(list_var, start=1): \n",
    "    print(f\"{idx}번째, element: {element}\")"
   ]
  },
  {
   "cell_type": "code",
   "execution_count": 17,
   "metadata": {},
   "outputs": [
    {
     "name": "stdout",
     "output_type": "stream",
     "text": [
      "element: 3\n",
      "element: 2\n",
      "element: 1\n"
     ]
    }
   ],
   "source": [
    "# ex_reversed.py\n",
    "\n",
    "list_var = [1,2,3]\n",
    "for element in reversed(list_var):\n",
    "    print(f\"element: {element}\")"
   ]
  },
  {
   "cell_type": "code",
   "execution_count": 18,
   "metadata": {},
   "outputs": [
    {
     "name": "stdout",
     "output_type": "stream",
     "text": [
      "[{'name': '이현경', 'age': 31}, {'name': '오민준', 'age': 29}, {'name': '김민지', 'age': 26}]\n"
     ]
    }
   ],
   "source": [
    "# ex_sorted.py\n",
    "\n",
    "def sort_by_age(person):\n",
    "    return person['age']\n",
    "\n",
    "members = [{'name': '이현경', 'age': 31},\n",
    "            {'name': '김민지', 'age': 26},\n",
    "            {'name': '오민준', 'age': 29}]\n",
    "\n",
    "sorted_members = sorted(members, key=sort_by_age, reverse=True)\n",
    "print(sorted_members)"
   ]
  },
  {
   "cell_type": "code",
   "execution_count": 19,
   "metadata": {},
   "outputs": [
    {
     "name": "stdout",
     "output_type": "stream",
     "text": [
      "[0:5] => [1, 2, 3, 4, 5]\n",
      "[:7]  => [1, 2, 3, 4, 5, 6, 7]\n",
      "[7:]  => [8, 9, 10]\n",
      "[0:10:2] => [1, 3, 5, 7, 9]\n"
     ]
    }
   ],
   "source": [
    "# ex_slice.py\n",
    "\n",
    "list_var = [1,2,3,4,5,6,7,8,9,10]\n",
    "print(f\"[0:5] => {list_var[0:5]}\") \n",
    "print(f\"[:7]  => {list_var[:7]}\") \n",
    "print(f\"[7:]  => {list_var[7:]}\") \n",
    "print(f\"[0:10:2] => {list_var[0:10:2]}\")\n"
   ]
  },
  {
   "cell_type": "code",
   "execution_count": 20,
   "metadata": {},
   "outputs": [
    {
     "name": "stdout",
     "output_type": "stream",
     "text": [
      "[8, 9, 10]\n",
      "[1, 2, 3, 4, 5, 6, 7, 8]\n"
     ]
    }
   ],
   "source": [
    "# ex_slice.py\n",
    "\n",
    "print(list_var[-3:]) \n",
    "print(list_var[:-2])"
   ]
  },
  {
   "cell_type": "code",
   "execution_count": 21,
   "metadata": {},
   "outputs": [
    {
     "name": "stdout",
     "output_type": "stream",
     "text": [
      "긍정의 감정이 0.6 이므로 기분 좋습니다.\n"
     ]
    }
   ],
   "source": [
    "# ex_loop.py\n",
    "\n",
    "emotions = ['사랑', '증오', '사랑', '기쁨', '증오', '기쁨', '행복', '슬픔', '분노', '사랑']\n",
    "pos_emotion_count = 0\n",
    "neg_emotion_count = 0\n",
    "\n",
    "for emotion in emotions:\n",
    "    if emotion == '사랑' or emotion == '기쁨' or emotion == '행복':\n",
    "    # if emotion in ['사랑', '기쁨', '행복']: 이렇게 코딩해도 결과는 동일하다.\n",
    "        pos_emotion_count = pos_emotion_count + 1 # pos_emotion_count가 1씩 누계된다.\n",
    "    else:\n",
    "        neg_emotion_count = neg_emotion_count + 1 # neg_emotion_count가 1씩 누계된다.\n",
    "\n",
    "# len은 콜렉션 데이터의 요소들의 개수를 알려주는 파이썬 함수다.\n",
    "pos_emotion_rate = pos_emotion_count / len(emotions) \n",
    "neg_emotion_rate = neg_emotion_count / len(emotions)\n",
    "\n",
    "if pos_emotion_rate >= 0.5:\n",
    "    print(\"긍정의 감정이\", pos_emotion_rate, \"이므로 기분 좋습니다.\")\n",
    "else:\n",
    "    print(\"부정의 감정이\", neg_emotion_rate, \"이므로 기분 나쁩니다.\")\n"
   ]
  },
  {
   "cell_type": "code",
   "execution_count": 22,
   "metadata": {},
   "outputs": [
    {
     "name": "stdout",
     "output_type": "stream",
     "text": [
      "입력값  100 0.04 1000000\n",
      "이자1: 10958.90410958904\n",
      "입력값  200 0.03 5000000\n",
      "이자2: 82191.7808219178\n"
     ]
    }
   ],
   "source": [
    "# ex_func1.py\n",
    "\n",
    "# 단리 이자 계산기(days : 일수, rate : 이율, amount: 원금)\n",
    "def calculate_simple_interest(days, rate, amount):\n",
    "    print(\"입력값 \", days, rate, amount)\n",
    "    return amount * days / 365 * rate\n",
    "\n",
    "simple_interest = calculate_simple_interest(100, 0.04, 1000000)\n",
    "print(\"이자1:\", simple_interest)\n",
    "\n",
    "simple_interest = calculate_simple_interest(200, 0.03, 5000000)\n",
    "print(\"이자2:\", simple_interest)"
   ]
  },
  {
   "cell_type": "code",
   "execution_count": 23,
   "metadata": {},
   "outputs": [
    {
     "name": "stdout",
     "output_type": "stream",
     "text": [
      "30\n",
      "30\n"
     ]
    },
    {
     "ename": "TypeError",
     "evalue": "func() missing 1 required positional argument: 'a'",
     "output_type": "error",
     "traceback": [
      "\u001b[1;31m---------------------------------------------------------------------------\u001b[0m",
      "\u001b[1;31mTypeError\u001b[0m                                 Traceback (most recent call last)",
      "Cell \u001b[1;32mIn[23], line 8\u001b[0m\n\u001b[0;32m      6\u001b[0m \u001b[38;5;28mprint\u001b[39m(func(\u001b[38;5;241m10\u001b[39m)) \u001b[38;5;66;03m# 30을 출력한다.\u001b[39;00m\n\u001b[0;32m      7\u001b[0m \u001b[38;5;28mprint\u001b[39m(func(a\u001b[38;5;241m=\u001b[39m\u001b[38;5;241m10\u001b[39m)) \u001b[38;5;66;03m# 30을 출력한다.\u001b[39;00m\n\u001b[1;32m----> 8\u001b[0m \u001b[38;5;28mprint\u001b[39m(\u001b[43mfunc\u001b[49m\u001b[43m(\u001b[49m\u001b[43mb\u001b[49m\u001b[38;5;241;43m=\u001b[39;49m\u001b[38;5;241;43m10\u001b[39;49m\u001b[43m)\u001b[49m) \u001b[38;5;66;03m# TypeError: func() missing 1 required positional argument: 'a'\u001b[39;00m\n",
      "\u001b[1;31mTypeError\u001b[0m: func() missing 1 required positional argument: 'a'"
     ]
    }
   ],
   "source": [
    "# ex_func2.py\n",
    "\n",
    "def func(a, b=20):\n",
    "    return a + b\n",
    "\n",
    "print(func(10)) # 30을 출력한다.\n",
    "print(func(a=10)) # 30을 출력한다.\n",
    "print(func(b=10)) # TypeError: func() missing 1 required positional argument: 'a'\n"
   ]
  },
  {
   "cell_type": "code",
   "execution_count": 24,
   "metadata": {},
   "outputs": [
    {
     "name": "stdout",
     "output_type": "stream",
     "text": [
      "type(kwargs): <class 'dict'> {'x': 10, 'y': 20}\n",
      "func1: 30\n",
      "func2: 30\n"
     ]
    }
   ],
   "source": [
    "# ex_dict_packing.py\n",
    "\n",
    "def func2(x, y):\n",
    "    print(\"func2:\", x + y)\n",
    "\n",
    "def func1(**kwargs):\n",
    "    print(\"type(kwargs):\", type(kwargs), kwargs)\n",
    "    print(\"func1:\", kwargs['x'] + kwargs['y'])\n",
    "    func2(**kwargs) \n",
    "\n",
    "func1(x=10, y=20)\n"
   ]
  },
  {
   "cell_type": "code",
   "execution_count": 25,
   "metadata": {},
   "outputs": [
    {
     "name": "stdout",
     "output_type": "stream",
     "text": [
      "add 22\n",
      "subtract 18\n",
      "multiply 40\n",
      "divide 10.0\n"
     ]
    }
   ],
   "source": [
    "# ex_dict_func_var.py\n",
    "\n",
    "def add(a, b):\n",
    "    return a + b\n",
    "def subtract(a, b):\n",
    "    return a - b\n",
    "def multiply(a, b):\n",
    "    return a * b\n",
    "\n",
    "def devide(a, b):\n",
    "    return a / b\n",
    "\n",
    "calc_dict = {\"add\": add, \"multiply\": multiply, \"subtract\": subtract, \"devide\": devide}\n",
    "def func(func_name, a, b):\n",
    "    return calc_dict[func_name](a, b)\n",
    "        \n",
    "print(\"add\", func(\"add\", 20, 2))\n",
    "print(\"subtract\", func(\"subtract\", 20, 2))\n",
    "print(\"multiply\", func(\"multiply\", 20, 2))\n",
    "print(\"divide\", func(\"divide\", 20, 2))\n"
   ]
  },
  {
   "cell_type": "code",
   "execution_count": 26,
   "metadata": {},
   "outputs": [
    {
     "name": "stdout",
     "output_type": "stream",
     "text": [
      "Processed result: 150\n",
      "Processed result: 30.0\n"
     ]
    }
   ],
   "source": [
    "# ex_dict_func_param.py\n",
    "\n",
    "def sum_data(data):\n",
    "    return sum(data)\n",
    "\n",
    "def average_data(data):\n",
    "    return sum(data) / len(data)\n",
    "\n",
    "def process_data(func, data):\n",
    "    if len(data) >= 3:\n",
    "        result = func(data)\n",
    "        print(f\"Processed result: {result}\")\n",
    "\n",
    "data = [10, 20, 30, 40, 50]\n",
    "\n",
    "process_data(sum_data, data) \n",
    "process_data(average_data, data) \n"
   ]
  },
  {
   "cell_type": "code",
   "execution_count": 27,
   "metadata": {},
   "outputs": [
    {
     "name": "stdout",
     "output_type": "stream",
     "text": [
      "가속 후 속도: 10\n",
      "가속 후 속도: 30\n",
      "감속 후 속도: 10\n",
      "자동차가 멈췄습니다.\n"
     ]
    }
   ],
   "source": [
    "# ex_car.py\n",
    "\n",
    "class Car:\n",
    "\n",
    "    def __init__(self):\n",
    "        self.speed = 0  # 초기 속도다.\n",
    "\n",
    "    def accelerate(self, speed_increase):\n",
    "        self.speed += speed_increase  # 속도 증가로 self.speed = self.speed + speed_increase와 동일하다.\n",
    "        print(\"가속 후 속도:\", self.speed)\n",
    "\n",
    "    def decelerate(self, speed_decrease):\n",
    "        if self.speed >= speed_decrease:  # 감속할 속도가 현재 속도 이상인지 확인한다.\n",
    "            self.speed -= speed_decrease  # 속도 감소로 self.speed = self.speed - speed_decrease 동일하다.\n",
    "            print(\"감속 후 속도:\", self.speed)\n",
    "        else:\n",
    "            self.stop()\n",
    "\n",
    "    def stop(self):\n",
    "        self.speed = 0\n",
    "        print(\"자동차가 멈췄습니다.\")\n",
    "\n",
    "car = Car() \n",
    "car.accelerate(10)  # 시속 10킬로미터 가속한다.\n",
    "car.accelerate(20)  # 시속 20킬로미터 추가 가속한다.\n",
    "car.decelerate(20)  # 시속 20킬로미터 감속한다.\n",
    "car.decelerate(20)  # 시속 20킬로미터 추가 감속한다.\n"
   ]
  },
  {
   "cell_type": "code",
   "execution_count": 28,
   "metadata": {},
   "outputs": [
    {
     "name": "stdout",
     "output_type": "stream",
     "text": [
      "0으로 나눌 수 없습니다: division by zero\n",
      "예외 처리가 완료되었습니다.\n"
     ]
    }
   ],
   "source": [
    "# ex_exception.py\n",
    "\n",
    "try:\n",
    "    result = 10 / 0\n",
    "except ZeroDivisionError as ze:\n",
    "    print(f\"0으로 나눌 수 없습니다: {str(ze)}\")\n",
    "else:\n",
    "    print(f\"결과는 {result}입니다.\")\n",
    "finally:\n",
    "    print(\"예외 처리가 완료되었습니다.\")\n"
   ]
  },
  {
   "cell_type": "code",
   "execution_count": 29,
   "metadata": {},
   "outputs": [
    {
     "name": "stdout",
     "output_type": "stream",
     "text": [
      "0으로 나눌 수 없습니다.\n",
      "func2에서 예외가 발생했습니다.\n"
     ]
    }
   ],
   "source": [
    "# ex_raise.py\n",
    "\n",
    "def func2():\n",
    "    try:\n",
    "        print(10 / 0)\n",
    "    except ZeroDivisionError as ze:\n",
    "        print(f\"0으로 나눌 수 없습니다.\")\n",
    "        raise ze\n",
    "\n",
    "def func1():\n",
    "    try:\n",
    "        func2()\n",
    "    except ZeroDivisionError:\n",
    "        print(f\"func2에서 예외가 발생했습니다.\")\n",
    "\n",
    "func1()\n"
   ]
  },
  {
   "cell_type": "code",
   "execution_count": 31,
   "metadata": {},
   "outputs": [
    {
     "name": "stdout",
     "output_type": "stream",
     "text": [
      "0으로 나눌 수 없습니다.\n",
      "0으로 나눌 수 없습니다.\n",
      "0으로 나눌 수 없습니다.\n",
      "0으로 나눌 수 없습니다.\n",
      "0으로 나눌 수 없습니다.\n",
      "func2에서 예외가 발생했습니다.\n"
     ]
    }
   ],
   "source": [
    "# retry.py\n",
    "\n",
    "from retry import retry\n",
    "\n",
    "@retry(tries=5, delay=1)\n",
    "def func2():\n",
    "    try:\n",
    "        print(10 / 0)\n",
    "    except ZeroDivisionError as ze:\n",
    "        print(f\"0으로 나눌 수 없습니다.\")\n",
    "        raise ze\n",
    "\n",
    "def func1():\n",
    "    try:\n",
    "        func2()\n",
    "    except ZeroDivisionError:\n",
    "        print(f\"func2에서 예외가 발생했습니다.\")\n",
    "\n",
    "func1()\n"
   ]
  },
  {
   "cell_type": "code",
   "execution_count": null,
   "metadata": {},
   "outputs": [],
   "source": []
  },
  {
   "cell_type": "code",
   "execution_count": null,
   "metadata": {},
   "outputs": [],
   "source": []
  },
  {
   "cell_type": "code",
   "execution_count": null,
   "metadata": {},
   "outputs": [],
   "source": []
  },
  {
   "cell_type": "code",
   "execution_count": null,
   "metadata": {},
   "outputs": [],
   "source": []
  },
  {
   "cell_type": "code",
   "execution_count": null,
   "metadata": {},
   "outputs": [],
   "source": []
  },
  {
   "cell_type": "code",
   "execution_count": null,
   "metadata": {},
   "outputs": [],
   "source": []
  },
  {
   "cell_type": "code",
   "execution_count": null,
   "metadata": {},
   "outputs": [],
   "source": []
  },
  {
   "cell_type": "code",
   "execution_count": null,
   "metadata": {},
   "outputs": [],
   "source": []
  },
  {
   "cell_type": "code",
   "execution_count": null,
   "metadata": {},
   "outputs": [],
   "source": []
  },
  {
   "cell_type": "code",
   "execution_count": null,
   "metadata": {},
   "outputs": [],
   "source": []
  },
  {
   "cell_type": "code",
   "execution_count": null,
   "metadata": {},
   "outputs": [],
   "source": []
  },
  {
   "cell_type": "code",
   "execution_count": null,
   "metadata": {},
   "outputs": [],
   "source": []
  }
 ],
 "metadata": {
  "kernelspec": {
   "display_name": "Python 3",
   "language": "python",
   "name": "python3"
  },
  "language_info": {
   "codemirror_mode": {
    "name": "ipython",
    "version": 3
   },
   "file_extension": ".py",
   "mimetype": "text/x-python",
   "name": "python",
   "nbconvert_exporter": "python",
   "pygments_lexer": "ipython3",
   "version": "3.10.10"
  }
 },
 "nbformat": 4,
 "nbformat_minor": 2
}
