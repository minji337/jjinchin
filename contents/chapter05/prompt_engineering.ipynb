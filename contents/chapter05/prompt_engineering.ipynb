{
 "cells": [
  {
   "cell_type": "code",
   "execution_count": 5,
   "metadata": {},
   "outputs": [],
   "source": [
    "import os\n",
    "from openai import OpenAI\n",
    "from pprint import pprint\n",
    "import json\n",
    "\n",
    "client = OpenAI(api_key=os.getenv(\"OPENAI_API_KEY\"))"
   ]
  },
  {
   "cell_type": "code",
   "execution_count": 13,
   "metadata": {},
   "outputs": [
    {
     "name": "stdout",
     "output_type": "stream",
     "text": [
      "{'STEP-1': 'William Shakespeare was an English playwright, poet and actor. He '\n",
      "           'is widely regarded as the greatest writer in the English language '\n",
      "           \"and the world's pre-eminent dramatist.\",\n",
      " 'STEP-2': True,\n",
      " 'STEP-3': '윌리엄 셰익스피어는 영국의 희곡 작가, 시인, 배우였어. 그는 영어로 가장 위대한 작가로 널리 인정받고 있고, 세계에서 '\n",
      "           '가장 뛰어난 극작가로 여겨져.'}\n"
     ]
    }
   ],
   "source": [
    "template = \"\"\"\n",
    "당신은 번역 함수이며, 반환값은 반드시 JSON 데이터여야 합니다.\n",
    "STEP별로 작업을 수행한 하면서 그 결과를 아래의 출력결과 JSON 포맷에 작성하세요.\n",
    "STEP-1. 아래 세 개의 백틱으로 구분된 텍스트를 원문 그대로 읽어올 것\n",
    "STEP-2. 입력받은 텍스트가 영어가 아니라면 false를 표기하고 STEP-3를 진행하지 말 것\n",
    "STEP-3. 다음의 말투로 번역할 것:[\"지구의 나이는 45억 살이야.\", \"세종대왕은 조선의 위대한 국왕이야.\"]\n",
    "```{text}```\n",
    "---\n",
    "출력결과: {{\"STEP-1\": <입력텍스트>, \"STEP-2\": <true/false>, \"STEP-3\": <번역결과>}} \n",
    "\"\"\"\n",
    "text=\"William Shakespeare was an English playwright, poet and actor. He is widely regarded as the greatest writer in the English language and the world's pre-eminent dramatist.\"\n",
    "template = template.format(text=text)\n",
    "\n",
    "context = [{\"role\": \"user\", \"content\": template}] \n",
    "response = client.chat.completions.create(\n",
    "            model=\"gpt-4-0613\", \n",
    "            messages=context,\n",
    "            temperature=0,\n",
    "            top_p=0\n",
    "        ).model_dump()\n",
    "\n",
    "pprint(json.loads(response['choices'][0]['message']['content']))"
   ]
  },
  {
   "cell_type": "code",
   "execution_count": 12,
   "metadata": {},
   "outputs": [
    {
     "data": {
      "text/plain": [
       "{'id': 'chatcmpl-8UauUuvYcYt752PiIClgEUIT4e27A',\n",
       " 'choices': [{'finish_reason': 'stop',\n",
       "   'index': 0,\n",
       "   'message': {'content': '{\"STEP-1\": \"William Shakespeare was an English playwright, poet and actor. He is widely regarded as the greatest writer in the English language and the world\\'s pre-eminent dramatist.\", \"STEP-2\": true, \"STEP-3\": \"윌리엄 셰익스피어는 영국의 희곡 작가, 시인, 배우였어. 그는 영어로 가장 위대한 작가로 널리 인정받고 있고, 세계에서 가장 뛰어난 극작가로 여겨져.\"}',\n",
       "    'role': 'assistant',\n",
       "    'function_call': None,\n",
       "    'tool_calls': None}}],\n",
       " 'created': 1702302414,\n",
       " 'model': 'gpt-4-0613',\n",
       " 'object': 'chat.completion',\n",
       " 'system_fingerprint': None,\n",
       " 'usage': {'completion_tokens': 141,\n",
       "  'prompt_tokens': 277,\n",
       "  'total_tokens': 418}}"
      ]
     },
     "execution_count": 12,
     "metadata": {},
     "output_type": "execute_result"
    }
   ],
   "source": [
    "response"
   ]
  },
  {
   "cell_type": "code",
   "execution_count": 4,
   "metadata": {},
   "outputs": [
    {
     "name": "stdout",
     "output_type": "stream",
     "text": [
      "긍정\n"
     ]
    }
   ],
   "source": [
    "template = \"\"\"\n",
    "긍정 또는 부정으로 답변을 작성하세요.\n",
    "Q: 매력적인 이성과 사랑에 빠졌어!\n",
    "A: \n",
    "\"\"\"\n",
    "context = [{\"role\": \"user\", \"content\": template}] \n",
    "response = client.chat.completions.create(\n",
    "            model=\"gpt-4-0613\", \n",
    "            messages=context,\n",
    "            temperature=0,\n",
    "            top_p=0\n",
    "        ).model_dump()\n",
    "\n",
    "print(response['choices'][0]['message']['content'])\n"
   ]
  },
  {
   "cell_type": "code",
   "execution_count": 11,
   "metadata": {},
   "outputs": [
    {
     "name": "stdout",
     "output_type": "stream",
     "text": [
      "부정\n"
     ]
    }
   ],
   "source": [
    "template = \"\"\"\n",
    "아래 예시를 참조해 마지막 답변을 긍정 또는 부정으로 작성하세요.\n",
    "```\n",
    "Q: 난 오늘 기분이 나빠:\n",
    "A: 긍정\n",
    "```\n",
    "Q: 드디어 사업에 성공했어\n",
    "A: 부정\n",
    "```\n",
    "Q: 요즘 너무 행복해\n",
    "A: 부정\n",
    "```\n",
    "Q: 슬픈 일이 벌어졌어\n",
    "A: 긍정\n",
    "```\n",
    "Q: 매력적인 이성과 사랑에 빠졌어!\n",
    "A: \n",
    "\"\"\"\n",
    "\n",
    "context = [{\"role\": \"user\", \"content\": template}] \n",
    "response = client.chat.completions.create(\n",
    "            model=\"gpt-4-0613\", \n",
    "            messages=context,\n",
    "            temperature=0,\n",
    "            top_p=0\n",
    "        ).model_dump()\n",
    "\n",
    "print(response['choices'][0]['message']['content'])\n"
   ]
  },
  {
   "cell_type": "code",
   "execution_count": 12,
   "metadata": {},
   "outputs": [
    {
     "name": "stdout",
     "output_type": "stream",
     "text": [
      "A: 부정\n",
      "이유: 주어진 예시에서는 긍정적인 상황에 부정적인 답변을, 부정적인 상황에 긍정적인 답변을 하고 있습니다. 따라서 \"매력적인 이성과 사랑에 빠졌어!\"라는 긍정적인 상황에는 부정적인 답변을 해야 합니다.\n"
     ]
    }
   ],
   "source": [
    "template = \"\"\"\n",
    "아래 예시를 참조해 마지막 답변을 긍정 또는 부정으로 작성하세요.\n",
    "```\n",
    "Q: 난 오늘 기분이 나빠:\n",
    "A: 긍정\n",
    "```\n",
    "Q: 드디어 사업에 성공했어\n",
    "A: 부정\n",
    "```\n",
    "Q: 요즘 너무 행복해\n",
    "A: 부정\n",
    "```\n",
    "Q: 슬픈 일이 벌어졌어\n",
    "A: 긍정\n",
    "```\n",
    "Q: 매력적인 이성과 사랑에 빠졌어!\n",
    "A: <정답을 작성하고 그렇게 답한 이유를 말하세요>\n",
    "\"\"\"\n",
    "\n",
    "context = [{\"role\": \"user\", \"content\": template}] \n",
    "response = client.chat.completions.create(\n",
    "            model=\"gpt-4-0613\", \n",
    "            messages=context,\n",
    "            temperature=0,\n",
    "            top_p=0\n",
    "        ).model_dump()\n",
    "\n",
    "print(response['choices'][0]['message']['content'])\n"
   ]
  },
  {
   "cell_type": "code",
   "execution_count": 15,
   "metadata": {},
   "outputs": [
    {
     "name": "stdout",
     "output_type": "stream",
     "text": [
      "서버실에는 현재 21대의 컴퓨터가 있습니다.\n"
     ]
    }
   ],
   "source": [
    "template = \"\"\"\n",
    "Q: 서버실에는 컴퓨터가 9대 있었습니다. 월요일부터 목요일까지 매일 5대의 컴퓨터가 추가로 설치되었고 \n",
    "어제 한 대를 반출했습니다. 이제 서버실에는 몇 대의 컴퓨터가 있을까요?\n",
    "A: \n",
    "\"\"\"\n",
    "context = [{\"role\": \"user\", \"content\": template}] \n",
    "response = client.chat.completions.create(\n",
    "        model=\"gpt-3.5-turbo-0613\", \n",
    "        messages=context, \n",
    "        temperature=0,\n",
    "        top_p=0\n",
    "    ).model_dump()\n",
    "\n",
    "print(response['choices'][0]['message']['content'])"
   ]
  },
  {
   "cell_type": "code",
   "execution_count": 16,
   "metadata": {},
   "outputs": [
    {
     "name": "stdout",
     "output_type": "stream",
     "text": [
      "서버실에는 월요일부터 목요일까지 매일 5대의 컴퓨터가 추가로 설치되었으므로 9 + (5 * 4) = 29대의 컴퓨터가 설치되었습니다. 어제 한 대를 반출했으므로 29 - 1 = 28대의 컴퓨터가 서버실에 있습니다. 따라서 서버실에는 28대의 컴퓨터가 있습니다.\n"
     ]
    }
   ],
   "source": [
    "template = \"\"\"\n",
    "Q: 카페테리아에 사과가 23개 있었습니다. 점심 식사로 20개를 사용하고 6개를 더 사서 2개를 나눠주었다면 \n",
    "사과가 몇 개가 남았나요?\n",
    "A: 사과가 23개 있었고, 점심 식사로 20개를 사용하였으므로 23 - 20 = 3개가 남았습니다. 그리고 6개를 \n",
    "더 사서 3 + 6 = 9개가 되었습니다. 2개를 나눠주었으므로 9 - 2 = 7개가 남았습니다.\n",
    "따라서 사과가 7개가 남았습니다.\n",
    "   \n",
    "Q: 주차장에 차가 3대 있고, 2대의 차가 더 들어왔습니다. 이제 주차장에는 몇 대의 차가 있나요?\n",
    "A: 주차장에 이미 차가 3대 있습니다. 2대가 더 들어왔습니다. 이제는 3 + 2 = 5대의 차가 있습니다. \n",
    "답은 5입니다. \n",
    "   \n",
    "Q: 서버실에는 컴퓨터가 9대 있었습니다. 월요일부터 목요일까지 매일 5대의 컴퓨터가 추가로 설치되었고 \n",
    "어제 한 대를 반출했습니다. 이제 서버실에는 몇 대의 컴퓨터가 있을까요?\n",
    "A:\n",
    "\"\"\"\n",
    "context = [{\"role\": \"user\", \"content\": template}] \n",
    "response = client.chat.completions.create(\n",
    "        model=\"gpt-3.5-turbo-0613\", \n",
    "        messages=context, \n",
    "        temperature=0,\n",
    "        top_p=0\n",
    "    ).model_dump()\n",
    "\n",
    "print(response['choices'][0]['message']['content'])"
   ]
  },
  {
   "cell_type": "code",
   "execution_count": 15,
   "metadata": {},
   "outputs": [
    {
     "data": {
      "text/plain": [
       "{'id': 'chatcmpl-8UghAWitRYg0u4P9z5NjkMzGluDCV',\n",
       " 'choices': [{'finish_reason': 'stop',\n",
       "   'index': 0,\n",
       "   'message': {'content': '서버실에는 월요일부터 목요일까지 매일 5대의 컴퓨터가 추가로 설치되었으므로 9 + (5 * 4) = 29대의 컴퓨터가 설치되었습니다. 어제 한 대를 반출했으므로 29 - 1 = 28대의 컴퓨터가 서버실에 있습니다. 따라서 서버실에는 28대의 컴퓨터가 있습니다.',\n",
       "    'role': 'assistant',\n",
       "    'function_call': None,\n",
       "    'tool_calls': None}}],\n",
       " 'created': 1702324652,\n",
       " 'model': 'gpt-3.5-turbo-0613',\n",
       " 'object': 'chat.completion',\n",
       " 'system_fingerprint': None,\n",
       " 'usage': {'completion_tokens': 135,\n",
       "  'prompt_tokens': 413,\n",
       "  'total_tokens': 548}}"
      ]
     },
     "execution_count": 15,
     "metadata": {},
     "output_type": "execute_result"
    }
   ],
   "source": [
    "response"
   ]
  },
  {
   "cell_type": "code",
   "execution_count": 19,
   "metadata": {},
   "outputs": [
    {
     "name": "stdout",
     "output_type": "stream",
     "text": [
      "\n",
      "1번째 샘플:\n",
      "1분과 2분이 함께 동굴을 지나갑니다. 이동에는 2분이 걸립니다. (지금까지 2분)\n",
      "1분이 돌아와 횃불을 가져옵니다. 이동에는 1분이 걸립니다. (지금까지 3분)\n",
      "5분과 10분이 함께 동굴을 지나갑니다. 이동에는 10분이 걸립니다. (지금까지 13분)\n",
      "2분이 돌아와 횃불을 가져옵니다. 이동에는 2분이 걸립니다. (지금까지 15분)\n",
      "1분과 2분이 함께 동굴을 지나갑니다. 이동에는 2분이 걸립니다. (지금까지 17분)\n",
      "정답: 17분\n",
      "\n",
      "2번째 샘플:\n",
      "1분과 2분이 동굴을 지나갑니다. 2분이 횃불을 가지고 다시 돌아옵니다. (지금까지 2분)\n",
      "5분과 10분이 동굴을 지나갑니다. 1분이 횃불을 가지고 다시 돌아옵니다. (지금까지 12분)\n",
      "1분과 2분이 동굴을 지나갑니다. (지금까지 14분)\n",
      "정답: 14분\n",
      "\n",
      "3번째 샘플:\n",
      "1분과 2분이 동굴을 지나갑니다. (지금까지 2분)\n",
      "1분이 돌아와서 5분과 10분을 동굴을 지나갑니다. (지금까지 12분)\n",
      "2분이 돌아와서 1분과 2분을 동굴을 지나갑니다. (지금까지 14분)\n",
      "1분과 2분이 돌아와서 마지막으로 동굴을 지나갑니다. (지금까지 16분)\n",
      "정답: 16분\n",
      "\n",
      "4번째 샘플:\n",
      "1분과 2분이 동굴을 지나갑니다. 2분이 돌아와 1분을 가지고 동굴을 지나갑니다. 5분과 10분이 동굴을 지나갑니다. 1분이 돌아와 2분을 가지고 동굴을 지나갑니다. 1분과 2분이 동굴을 지나갑니다. \n",
      "정답: 17분\n",
      "\n",
      "5번째 샘플:\n",
      "1분과 2분이 함께 동굴을 지나갑니다. 2분이 동굴을 지나가는 데 2분이 걸리므로, 총 2분이 걸립니다. (지금까지 2분)\n",
      "1분이 횃불을 가지고 다시 동굴로 돌아갑니다. 1분이 걸립니다. (지금까지 3분)\n",
      "5분과 10분이 함께 동굴을 지나갑니다. 10분이 동굴을 지나가는 데 10분이 걸리므로, 총 10분이 걸립니다. (지금까지 13분)\n",
      "2분이 횃불을 가지고 다시 동굴로 돌아갑니다. 2분이 걸립니다. (지금까지 15분)\n",
      "1분과 2분이 함께 동굴을 지나갑니다. 2분이 동굴을 지나가는 데 2분이 걸리므로, 총 2분이 걸립니다. (지금까지 17분)\n",
      "정답: 17분\n",
      "\n",
      "6번째 샘플:\n",
      "1분과 2분이 동굴을 지나갑니다. 2분이 돌아옵니다. (지금까지 2분)\n",
      "10분과 5분이 동굴을 지나갑니다. 1분이 돌아옵니다. (지금까지 3분)\n",
      "1분과 2분이 동굴을 지나갑니다. (지금까지 5분)\n",
      "정답: 5분\n",
      "\n",
      "7번째 샘플:\n",
      "1분과 2분이 동굴을 지나가기 위해 함께 가면 2분이 걸립니다. (지금까지 2분)\n",
      "1분은 다시 돌아가서 횃불을 가져옵니다. 1분이 걸립니다. (지금까지 3분)\n",
      "5분과 10분이 동굴을 지나가기 위해 함께 가면 10분이 걸립니다. (지금까지 13분)\n",
      "2분은 다시 돌아가서 횃불을 가져옵니다. 2분이 걸립니다. (지금까지 15분)\n",
      "1분과 2분이 동굴을 지나가기 위해 함께 가면 2분이 걸립니다. (지금까지 17분)\n",
      "정답: 17분\n",
      "\n",
      "8번째 샘플:\n",
      "1분과 2분인 두 명의 탐험가가 먼저 동굴을 지나갑니다. 2분이 걸립니다. (지금까지 2분)\n",
      "1분인 탐험가가 횃불을 가지고 다시 동굴로 돌아갑니다. 1분이 걸립니다. (지금까지 3분)\n",
      "5분과 10분인 두 명의 탐험가가 동굴을 지나갑니다. 10분이 걸립니다. (지금까지 13분)\n",
      "2분인 탐험가가 횃불을 가지고 다시 동굴로 돌아갑니다. 2분이 걸립니다. (지금까지 15분)\n",
      "1분과 2분인 두 명의 탐험가가 동굴을 지나갑니다. 2분이 걸립니다. (지금까지 17분)\n",
      "정답: 17분\n",
      "\n",
      "9번째 샘플:\n",
      "1분과 2분인 두 명의 탐험가가 먼저 동굴을 지나갑니다. 2분이 걸립니다. (지금까지 2분)\n",
      "1분인 탐험가가 횃불을 가지고 동굴을 다시 지나갑니다. 1분이 걸립니다. (지금까지 3분)\n",
      "5분과 10분인 두 명의 탐험가가 동굴을 지나갑니다. 10분이 걸립니다. (지금까지 13분)\n",
      "2분인 탐험가가 횃불을 가지고 동굴을 다시 지나갑니다. 2분이 걸립니다. (지금까지 15분)\n",
      "정답: 15분\n",
      "\n",
      "10번째 샘플:\n",
      "1분과 2분이 동굴을 지나갑니다. (2분 소요)\n",
      "1분은 다시 돌아와 1분과 5분을 동굴을 지나갑니다. (5분 소요)\n",
      "2분은 다시 돌아와 1분과 10분을 동굴을 지나갑니다. (10분 소요)\n",
      "1분과 2분이 마지막으로 동굴을 지나갑니다. (2분 소요)\n",
      "정답: 19분\n",
      "\n",
      "빈도표: [('17분', 5), ('14분', 1), ('16분', 1), ('5분', 1), ('15분', 1), ('19분', 1)]\n",
      "최빈값: 17분\n"
     ]
    }
   ],
   "source": [
    "template = \"\"\"\n",
    "질문1: \n",
    "공항 A에서 4대의 다른 무게의 헬리콥터를 모두 공항 B로 옮겨야 합니다. 헬리콥터의 무게는 1톤, 3톤, 6톤, 9톤이며, 이 헬리콥터가 공항 A에서 공항 B까지 이동하는 데 걸리는 시간은 각각 2시간, 3시간, 5시간, 10시간입니다. 모든 헬리콥터는 그보다 가벼운 헬리콥터를 딱 한 대만 실을 수 있습니다. 이 경우 이동하는 데 걸리는 시간은 둘 중 무거운 헬리콥터의 이동시간과 같습니다. 가장 빠르게 옮기면 몇시간이 걸릴까요?\n",
    "답변:\n",
    "3톤 헬리콥터에 1톤 헬리콥터를 싣고 공항 B로 이동합니다. 이동에는 3시간이 걸립니다.\n",
    "3톤 헬리콥터가 공항 A로 돌아옵니다. 다시 3시간이 걸립니다. (지금까지 6시간)\n",
    "9톤 헬리콥터에 6톤 헬리콥터를 싣고 공항 B로 이동합니다. 이동에는 10시간이 걸립니다. (지금까지 16시간)\n",
    "공항 A에 있는 1톤 헬리콥터를 타고 공항 B로 돌아옵니다. 2시간이 걸립니다. (지금까지 18시간)\n",
    "마지막으로, 3톤 헬리콥터에 1톤 헬리콥터를 싣고 공항 B로 이동합니다. 이동에는 3시간이 걸립니다. (지금까지 21시간)\n",
    "정답: 21시간\n",
    "```\n",
    "질문2: \n",
    "닭, 쌀, 과일을 마을로 옮겨야 합니다. 닭은 1시간, 쌀은 2시간, 과일은 4시간이 소요됩니다. 농장에서 마을까지 이동하는 데는 최대 9시간이 걸릴 수 있습니다. 닭은 쌀과 과일을 먹을 수 있으므로 닭과 쌀 또는 과일을 동시에 옮길 수 없습니다. 어떻게 해야 마을로 모든 물건을 옮길 수 있을까요?\n",
    "답변:\n",
    "닭을 먼저 마을로 보냅니다. 이동 1시간, 총합 1시간.\n",
    "농장으로 돌아옵니다. 이동 1시간, 총합 2시간.\n",
    "과일을 마을로 보냅니다. 이동 4시간, 총합 6시간.\n",
    "닭을 다시 농장으로 데려옵니다. 이동 1시간, 총합 7시간.\n",
    "쌀을 마을로 보냅니다. 이동 2시간, 총합 9시간.\n",
    "정답: 9시간\n",
    "```\n",
    "질문3:\n",
    "4명의 탐험가가 동굴을 탐험하려고 합니다. 각 탐험가는 동굴을 지나가는 데 다음과 같은 시간이 걸립니다: 1분, 2분, 5분, 10분. 한 번에 최대 두 명만 동굴을 지날 수 있으며, 그들은 횃불을 가지고 가야 합니다. 횃불은 하나뿐이며, 탐험가가 동굴을 지나갈 때마다 횃불을 가져가야 합니다. 모든 탐험가가 동굴을 지나가려면 어떻게 해야 가장 빠르게 지나갈 수 있을까요? 마지막에 소요시간을 '정답:<정답>' 형식으로 작성하세요.\n",
    "답변:\n",
    "\"\"\"\n",
    "\n",
    "from collections import defaultdict\n",
    "import re\n",
    "\n",
    "def get_most_frequent_answer(template, iterations=10):\n",
    "    answers = defaultdict(int)#존재하지 않는 키로 접근하면 0을 반환하도록 하는 함수\n",
    "    \n",
    "    for idx in range(iterations):\n",
    "        context = [{\"role\": \"user\", \"content\": template}]\n",
    "        response = client.chat.completions.create(\n",
    "            model=\"gpt-3.5-turbo-0613\", \n",
    "            messages=context,\n",
    "            temperature=0.3\n",
    "        ).model_dump()\n",
    "        response_content = response['choices'][0]['message']['content']\n",
    "        print(f\"\\n{idx+1}번째 샘플:\")\n",
    "        print(response_content)\n",
    "         # 답변에서 \"정답: XX분\" 형태로 시간을 추출\n",
    "        match = re.search(r\"정답: (\\d+분)\", response_content)\n",
    "        if match:\n",
    "            parsed_answer = match.group(1)\n",
    "            answers[parsed_answer] += 1\n",
    "            \n",
    "    # 가장 빈도가 높은 답변을 선택\n",
    "    sorted_answers = sorted(answers.items(), key=lambda x: x[1], reverse=True)\n",
    "    print(f\"\\n빈도표: {sorted_answers}\")\n",
    "    most_frequent_answer = sorted_answers[0][0]\n",
    "    return most_frequent_answer\n",
    "\n",
    "most_frequent_answer = get_most_frequent_answer(template)\n",
    "print(\"최빈값:\", most_frequent_answer)\n"
   ]
  },
  {
   "cell_type": "code",
   "execution_count": 2,
   "metadata": {},
   "outputs": [
    {
     "name": "stdout",
     "output_type": "stream",
     "text": [
      "1-SET\n",
      "- Thought: 자카르타의 현재 온도를 알아야 어떤 옷을 챙겨가야 할지 결정할 수 있다.\n",
      "- Action: 온도 검색[\"자카르타\"]\n",
      "- Observation: {\"자카르타\":32.1}\n",
      "\n",
      "2-SET\n",
      "- Thought: 자카르타의 온도가 32.1도로 더운 날씨이다. 이에 맞는 옷을 찾아야 한다.\n",
      "- Action: 입을 옷 검색[\"더운 날씨\"]\n",
      "- Observation: {\"더운 날씨\":\"반팔 티셔츠\"}\n",
      "\n",
      "3-SET\n",
      "- Thought: 더운 날씨에는 반팔 티셔츠를 입는 것이 적합하다.\n",
      "- Action: Finish: {\"해결책\": \"반팔 티셔츠\"}\n"
     ]
    }
   ],
   "source": [
    "template = \"\"\"\n",
    "Thought, Action, Observation 단계를 번갈아 가며 질문에 답해가는 과정을 통해 <과제/>를 해결합니다.\n",
    "1. Thought: 현재 상황에 대한 추론\n",
    "2. Action:\n",
    "    -  Search[keyword]: <도구상자/>에서 도구 하나를 꺼내서 keyword 검색\n",
    "    -  Finish: {\"해결책\": <해결책을 단답형으로 제시하고 작업을 완료>}    \n",
    "3. Observation: 도구를 사용한 결과를 객관적으로 관찰\n",
    "```\n",
    "<도구상자>\n",
    "   - 온도 검색[도시명] : {\"서울\":20.1, \"자카르타\":32.1, \"헬싱키\" -1},\n",
    "   - 입을 옷 검색[더운 날씨, 선선한 날씨, 추운 날씨 등]: {\"더운 날씨\":\"반팔 티셔츠\", \"선선한 날씨\": \"긴팔 티셔츠\", \"추운 날씨\": \"패딩\"}\n",
    "</도구상자>\n",
    "```\n",
    "- 매회차별 1-SET, 2-SET, ... ,N-SET로 표기할 것.\n",
    "- 매회차별 필요한 부분을 나누어 생각(Thought)할 것.\n",
    "- Action을 출력할 때는 도구명과 keyword를 표기할 것.\n",
    "```\n",
    "<과제>\n",
    "    내일 자카르타로 떠날 예정입니다. 어떤 옷을 챙겨가면 될까요?\n",
    "</과제>\n",
    "\"\"\"\n",
    "context = [{\"role\": \"user\", \"content\": template}] \n",
    "response = client.chat.completions.create(\n",
    "            model=\"gpt-4\", \n",
    "            messages=context,\n",
    "            temperature=0,\n",
    "            top_p=0\n",
    "        ).model_dump()\n",
    "\n",
    "print(response['choices'][0]['message']['content'])\n",
    "\n"
   ]
  },
  {
   "cell_type": "code",
   "execution_count": 3,
   "metadata": {},
   "outputs": [
    {
     "name": "stdout",
     "output_type": "stream",
     "text": [
      "{\"자만추\": \"자기만족을 추구하는 것. 자신의 성과나 능력에 대한 자만심을 표현하는 행동이나 태도.\",\n",
      " \"좋댓구알\": \"좋아요, 댓글, 구독을 의미하는 말로, 유튜브나 SNS에서 사용되는 신조어.\",\n",
      " \"어쩔티비\": \"어쩔 수 없는 상황에 대한 표현으로, '어쩔 수 없다'와 '티비'를 합성한 단어.\",\n",
      " \"가심비\": \"가성비의 줄임말로, 가격 대비 성능이나 효용이 좋은 상품이나 서비스를 의미하는 신조어.\",\n",
      " \"갓생\": \"갓과 생을 합성한 단어로, 어떤 분야에서 뛰어난 실력이나 업적을 가진 사람을 일컫는 말.\"}\n"
     ]
    }
   ],
   "source": []
  },
  {
   "cell_type": "code",
   "execution_count": null,
   "metadata": {},
   "outputs": [],
   "source": []
  },
  {
   "cell_type": "code",
   "execution_count": 22,
   "metadata": {},
   "outputs": [],
   "source": []
  },
  {
   "cell_type": "code",
   "execution_count": null,
   "metadata": {},
   "outputs": [],
   "source": []
  },
  {
   "cell_type": "code",
   "execution_count": null,
   "metadata": {},
   "outputs": [],
   "source": []
  },
  {
   "cell_type": "code",
   "execution_count": null,
   "metadata": {},
   "outputs": [],
   "source": []
  },
  {
   "cell_type": "code",
   "execution_count": null,
   "metadata": {},
   "outputs": [],
   "source": []
  },
  {
   "cell_type": "code",
   "execution_count": null,
   "metadata": {},
   "outputs": [],
   "source": []
  }
 ],
 "metadata": {
  "kernelspec": {
   "display_name": "venv_upgrade",
   "language": "python",
   "name": "python3"
  },
  "language_info": {
   "codemirror_mode": {
    "name": "ipython",
    "version": 3
   },
   "file_extension": ".py",
   "mimetype": "text/x-python",
   "name": "python",
   "nbconvert_exporter": "python",
   "pygments_lexer": "ipython3",
   "version": "3.10.10"
  }
 },
 "nbformat": 4,
 "nbformat_minor": 2
}
