{
 "cells": [
  {
   "cell_type": "code",
   "execution_count": 2,
   "metadata": {},
   "outputs": [],
   "source": [
    "import os\n",
    "from openai import OpenAI\n",
    "\n",
    "client = OpenAI(api_key=os.getenv(\"OPENAI_API_KEY\"))"
   ]
  },
  {
   "cell_type": "code",
   "execution_count": 3,
   "metadata": {},
   "outputs": [
    {
     "name": "stdout",
     "output_type": "stream",
     "text": [
      "{\"자만추\": \"자기만족을 추구하는 것. 자신의 성과나 능력에 대한 자만심을 표현하는 행동이나 태도.\",\n",
      " \"좋댓구알\": \"좋아요, 댓글, 구독을 의미하는 말로, 유튜브나 SNS에서 자신의 콘텐츠에 대한 관심과 사랑을 표현하는 표현.\",\n",
      " \"어쩔티비\": \"어쩔 수 없는 상황을 비꼬아 표현하는 말. 어떻게 할 수 없는 상황에 대한 불만이나 유머를 담은 표현.\",\n",
      " \"가심비\": \"가성비의 줄임말로, 가격 대비 만족도를 의미하는 말. 어떤 상품이나 서비스의 가격이 비싸지 않으면서도 만족스러운 정도.\",\n",
      " \"갓생\": \"갓(God)과 생(생산물)의 합성어로, 특정 분야에서 뛰어난 실력이나 업적을 가진 사람을 칭하는 말.\"}\n"
     ]
    }
   ],
   "source": [
    "template = \"\"\"\n",
    "신조어에 대한 질문입니다. 아래 JSON 포맷으로 답하세요.\n",
    "{\"자만추\": <30단어 이내로 뜻 설명>,\n",
    " \"좋댓구알\": <30단어 이내로 뜻 설명>,\n",
    " \"어쩔티비\": <30단어 이내로 뜻 설명>,\n",
    " \"가심비\": <30단어 이내로 뜻 설명>,\n",
    " \"갓생\": <30단어 이내로 뜻 설명>}\n",
    "\"\"\"\n",
    "context = [{\"role\": \"user\", \"content\": template}] \n",
    "response = client.chat.completions.create(\n",
    "            model=\"gpt-3.5-turbo-0613\", \n",
    "            messages=context,\n",
    "            temperature=0,\n",
    "            top_p=0\n",
    "        ).model_dump()\n",
    "print(response['choices'][0]['message']['content'])\n"
   ]
  },
  {
   "cell_type": "code",
   "execution_count": 5,
   "metadata": {},
   "outputs": [
    {
     "name": "stdout",
     "output_type": "stream",
     "text": [
      "자만추는 \"자연스러운 만남 추구\"를 뜻합니다.\n"
     ]
    }
   ],
   "source": [
    "system_role = \"\"\"\n",
    "신조어 사전:\n",
    "{\"자만추\": \"자연스러운 만남 추구\"\n",
    " \"좋댓구알\": \"좋아요, 댓글, 구독 알림설정의 줄임말\",\n",
    " \"어쩔티비\": \"어쩌라고 안 물어봤는데 를 뜻하는 말\"\n",
    " \"가심비\": \"가격 대비 심리적 만족도가 주는 효용\"\n",
    " \"갓생\": \"일상의 소소한 성취감을 추구하는 삶\"}\n",
    "\n",
    "신조어 사전에서 답하세요. 신조어 사전에 없다면 \"모르는 단어입니다\"라고 답하세요.\"\"\"\n",
    "\n",
    "template = \"\"\"\n",
    "신조어 {신조어}의 뜻을 말해주세요.\n",
    "\"\"\".format(신조어=\"자만추\")\n",
    "\n",
    "context = [{\"role\": \"system\", \"content\": system_role},\n",
    "           {\"role\": \"user\", \"content\": template}] \n",
    "response = client.chat.completions.create(\n",
    "            model=\"gpt-3.5-turbo-0613\", \n",
    "            messages=context,\n",
    "            temperature=0,\n",
    "            top_p=0\n",
    "        ).model_dump()\n",
    "print(response['choices'][0]['message']['content'])\n"
   ]
  },
  {
   "cell_type": "code",
   "execution_count": 6,
   "metadata": {},
   "outputs": [
    {
     "name": "stdout",
     "output_type": "stream",
     "text": [
      "신조어 사전에는 \"킹받네\"라는 단어는 없습니다. \"모르는 단어입니다\"라고 답변드립니다.\n"
     ]
    }
   ],
   "source": [
    "template = \"\"\"\n",
    "신조어 {신조어}의 뜻을 말헤주세요.\n",
    "\"\"\".format(신조어=\"킹받네\")\n",
    "\n",
    "context = [{\"role\": \"system\", \"content\": system_role},\n",
    "           {\"role\": \"user\", \"content\": template}] \n",
    "response = client.chat.completions.create(\n",
    "            model=\"gpt-3.5-turbo-0613\", \n",
    "            messages=context,\n",
    "            temperature=0,\n",
    "            top_p=0\n",
    "        ).model_dump()\n",
    "print(response['choices'][0]['message']['content'])\n"
   ]
  }
 ],
 "metadata": {
  "kernelspec": {
   "display_name": "venv_upgrade",
   "language": "python",
   "name": "python3"
  },
  "language_info": {
   "codemirror_mode": {
    "name": "ipython",
    "version": 3
   },
   "file_extension": ".py",
   "mimetype": "text/x-python",
   "name": "python",
   "nbconvert_exporter": "python",
   "pygments_lexer": "ipython3",
   "version": "3.10.10"
  }
 },
 "nbformat": 4,
 "nbformat_minor": 2
}
