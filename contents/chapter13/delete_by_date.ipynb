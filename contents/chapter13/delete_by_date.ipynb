{
 "cells": [
  {
   "cell_type": "code",
   "execution_count": 13,
   "metadata": {},
   "outputs": [],
   "source": [
    "\n",
    "from pymongo import MongoClient\n",
    "import os\n",
    "import pinecone\n",
    "\n",
    "pinecone.init(api_key=os.getenv(\"PINECONE_API_KEY\"), environment=\"gcp-starter\")\n",
    "pinecone_index = pinecone.Index(\"jjinchin-memory\")\n",
    "\n",
    "mongo_cluster = MongoClient(os.getenv(\"MONGO_CLUSTER_URI\"))\n",
    "mongo_chats_collection = mongo_cluster[\"jjinchin\"][\"chats\"]\n",
    "mongo_memory_collection = mongo_cluster[\"jjinchin\"][\"memory\"]\n",
    "embedding_model = \"text-embedding-ada-002\"\n",
    "\n",
    "date='20231202' # 이 일자의 벡터 DB, Mongo DB 삭제\n",
    "\n",
    "search_results = mongo_memory_collection.find({\"date\": date})\n",
    "#pinecone_index.delete(filter={\"date\":date})\n",
    "ids = [ str(v['_id']) for v in search_results]\n",
    "if len(ids) > 0:\n",
    "    pinecone_index.delete(ids=ids)\n",
    "    mongo_memory_collection.delete_many({\"date\":date})\n",
    "    mongo_chats_collection.delete_many({\"date\":date})"
   ]
  }
 ],
 "metadata": {
  "kernelspec": {
   "display_name": "Python 3",
   "language": "python",
   "name": "python3"
  },
  "language_info": {
   "codemirror_mode": {
    "name": "ipython",
    "version": 3
   },
   "file_extension": ".py",
   "mimetype": "text/x-python",
   "name": "python",
   "nbconvert_exporter": "python",
   "pygments_lexer": "ipython3",
   "version": "3.10.10"
  }
 },
 "nbformat": 4,
 "nbformat_minor": 2
}
